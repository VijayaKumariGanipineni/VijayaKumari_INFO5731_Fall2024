{
  "cells": [
    {
      "cell_type": "markdown",
      "metadata": {
        "id": "view-in-github",
        "colab_type": "text"
      },
      "source": [
        "<a href=\"https://colab.research.google.com/github/VijayaKumariGanipineni/VijayaKumari_INFO5731_Fall2024/blob/main/Ganipineni_VijayaKumari_Assignment1.ipynb\" target=\"_parent\"><img src=\"https://colab.research.google.com/assets/colab-badge.svg\" alt=\"Open In Colab\"/></a>"
      ]
    },
    {
      "cell_type": "markdown",
      "metadata": {
        "id": "Ryk8D1Q4Wsrp"
      },
      "source": [
        "# **INFO5731 Assignment One**"
      ]
    },
    {
      "cell_type": "markdown",
      "source": [
        "This assignment includes range of programming tasks and data analysis exercises, aiming to enhance your Python skills and proficiency in string manipulation, numerical computations, and data science. Follow the instructions carefully and design well-structured Python programs to address each question.\n",
        "\n",
        "Late Submission will have a penalty of 10% reduction for each day after the deadline."
      ],
      "metadata": {
        "id": "qcP6re2g5A5r"
      }
    },
    {
      "cell_type": "markdown",
      "metadata": {
        "id": "JkzR8cFAyGik"
      },
      "source": [
        "# Question 1 (10 points).\n",
        "\n",
        "The formula that describes the volume V of a hemisphere with radius r is the following:\n",
        "\n",
        "$ V=\\frac{2}{3}\\ast\\ \\pi\\ast\\ r^3 $\n",
        "\n",
        "Write a program to calculate the value of V when r is in the range of even numbers from 1-20. Output the result in the following format:\n",
        "\n",
        "\tr\tV\n",
        "\t2\t…\n",
        "\t4\t…\n",
        "\t6\t…\n",
        "\t.\n",
        "\t.\n",
        "\t.\n",
        "\t20\t…\n"
      ]
    },
    {
      "cell_type": "code",
      "execution_count": null,
      "metadata": {
        "id": "jDyTKYs-yGit",
        "colab": {
          "base_uri": "https://localhost:8080/"
        },
        "outputId": "72c78d3d-d66a-43f7-bac0-2c77963ece08"
      },
      "outputs": [
        {
          "output_type": "stream",
          "name": "stdout",
          "text": [
            "r\tV\n",
            "2\t16.755\n",
            "4\t134.041\n",
            "6\t452.389\n",
            "8\t1072.33\n",
            "10\t2094.395\n",
            "12\t3619.115\n",
            "14\t5747.02\n",
            "16\t8578.642\n",
            "18\t12214.512\n",
            "20\t16755.161\n"
          ]
        }
      ],
      "source": [
        "# Your code here\n",
        "import math\n",
        "\n",
        "print(\"r\\tV\")\n",
        "for i in range(2,20+1,2):#(even no's range from 1,20:2 is statring range,2+! ending range)\n",
        "    V = (2/3) * math.pi * (i**3)\n",
        "    print(f\"{i}\\t{round(V,3)}\")"
      ]
    },
    {
      "cell_type": "markdown",
      "metadata": {
        "id": "90_NR8c5XGWc"
      },
      "source": [
        "# Question 2 (20 points)\n",
        "\n",
        "(a) Write a Python program to generate a sequence of 12 random numbers falling within the range of 50 to 150.\n",
        "\n",
        "(b) Arrange the generated numbers in ascending order. Display the sorted list.\n",
        "\n",
        "(c) Extend the program to arrange the numbers in descending order as well. Present the sorted list accordingly.\n",
        "\n",
        "(d) Compute and output the average of the entire group of generated numbers.\n",
        "\n",
        "(e) Enhance the program to calculate and display the average of the first 6 numbers from both the ascending and descending sorted lists."
      ]
    },
    {
      "cell_type": "code",
      "execution_count": null,
      "metadata": {
        "id": "5QX6bJjGWXY9",
        "colab": {
          "base_uri": "https://localhost:8080/"
        },
        "outputId": "0e28c5bf-d50e-43e2-984f-5835b4f59bbc"
      },
      "outputs": [
        {
          "output_type": "stream",
          "name": "stdout",
          "text": [
            "randomly generated numbers:  [126, 86, 61, 50, 104, 119, 96, 120, 84, 129, 131, 53]\n",
            "ascending_items:  [50, 53, 61, 84, 86, 96, 104, 119, 120, 126, 129, 131]\n",
            "decending_items:  [131, 129, 126, 120, 119, 104, 96, 86, 84, 61, 53, 50]\n",
            "average of entire group:  96.58333333333333\n",
            "average of first 6 numbers from both ascending and decending sorted lists:  193.16666666666669\n"
          ]
        }
      ],
      "source": [
        "# Write code for each of the sub parts with proper comments.\n",
        "import random as random_number\n",
        "\n",
        "num=[random_number.randint(50,150) for i in range(12)]\n",
        "print(\"randomly generated numbers: \",num)\n",
        "\n",
        "num.sort()\n",
        "print(\"ascending_items: \",num)\n",
        "\n",
        "ascending_items_average=sum(num[0:6])/6\n",
        "\n",
        "num.reverse()\n",
        "print(\"decending_items: \",num)\n",
        "\n",
        "decending_items_average=sum(num[0:6])/6\n",
        "\n",
        "print(\"average of entire group: \",sum(num)/round(len(num),2))\n",
        "print(\"average of first 6 numbers from both ascending and decending sorted lists: \",ascending_items_average+decending_items_average)\n",
        "\n",
        "\n",
        "\n",
        "\n"
      ]
    },
    {
      "cell_type": "markdown",
      "metadata": {
        "id": "1F_PZdH9Sh49"
      },
      "source": [
        "# Question 3 (20 points).\n",
        "\n",
        "Create a Python program that encompasses various string manipulation task:\n",
        "\n",
        "(a) Prompt the user to input two sentences.\n",
        "\n",
        "(b) Transform each sentence into a list, where each element corresponds to a word in the sentence. For example, if the sentences are \"Hello, how are you doing today?\" and \"This is an example sentence for the program!\"\n",
        "\n",
        "The program should output:\n",
        "['Hello', ',', 'how', 'are', 'you', 'doing', 'today', '?', 'This', 'is', 'an', 'example', 'sentence', 'for', 'the', 'program', '!']\n",
        "\n",
        "(c) Compare the two sentences. Print out a list of words that occur in both sentences.\n",
        "\n",
        "(d) Remove any punctuation from the sentence and print the sanitized sentences. It should remove at least the following characters, but it can remove more: period(“.”), comma (“,”), semicolon (“;”), and colon (“:”).\n",
        "\n",
        "(e) Count the number of vowels in each of the sentences. Print out each vowel and the occurrences  in the each of the two sentences separately, such as:\n",
        "\n",
        "Sentence1: a:2, e:2, i:0, etc.\n",
        "Sentence2: a:1, e:2, i:2, etc.\n",
        "\n",
        "Design a well-structured Python program to execute these tasks efficiently."
      ]
    },
    {
      "cell_type": "code",
      "source": [],
      "metadata": {
        "id": "_Aq4AuHLkO6z"
      },
      "execution_count": null,
      "outputs": []
    },
    {
      "cell_type": "code",
      "source": [],
      "metadata": {
        "id": "HtgOwS6JmpDq"
      },
      "execution_count": null,
      "outputs": []
    },
    {
      "cell_type": "code",
      "execution_count": null,
      "metadata": {
        "id": "Y0oOSlsOS0cq",
        "colab": {
          "base_uri": "https://localhost:8080/"
        },
        "outputId": "18df0b8d-4347-48c8-833f-850fd8093e69"
      },
      "outputs": [
        {
          "output_type": "stream",
          "name": "stdout",
          "text": [
            "input the sentence1: YASHU\n",
            "input the sentence2: VIJJU\n",
            "transforming sentences to list:  ['YASHU', 'VIJJU']\n",
            "no_common_words_found\n",
            "modified sentence1:  YASHU\n",
            "modified sentence2:  VIJJU\n",
            "printing sentence1 vowels:  {'a': 1, 'u': 1}\n",
            "printing snetence2 vowels:  {'i': 1, 'u': 1}\n"
          ]
        }
      ],
      "source": [
        "# Your code here\n",
        "def count_vowels(text):\n",
        "  count=0\n",
        "  charlist={}\n",
        "\n",
        "  vowels = ['a', 'e', 'i', 'o', 'u']\n",
        "  for letter in text:\n",
        "    if letter.lower() in vowels:\n",
        "      vowel = letter.lower()\n",
        "      if vowel in charlist:\n",
        "          charlist[vowel] += 1\n",
        "      else:\n",
        "          charlist[vowel] = 1\n",
        "  return charlist\n",
        "\n",
        "def remove_characters(sentence):\n",
        "  removable_characters = ['.', ',', ';', ':']\n",
        "  modified_sentence= \"\"\n",
        "  for char in sentence:\n",
        "      if char not in removable_characters:\n",
        "          modified_sentence += char\n",
        "  return modified_sentence\n",
        "\n",
        "\n",
        "def list_of_words(sentence):\n",
        "  list_for_split = []\n",
        "  word = \"\"\n",
        "  for char in sentence:\n",
        "      if char.isalnum():\n",
        "          word += char\n",
        "      else:\n",
        "          if word:\n",
        "              list_for_split.append(word)\n",
        "              word = \"\"\n",
        "          if char.strip():\n",
        "              list_for_split.append(char)\n",
        "  if word:\n",
        "      list_for_split.append(word)\n",
        "  return list_for_split\n",
        "\n",
        "sentence1=input(\"input the sentence1: \")\n",
        "sentence2=input(\"input the sentence2: \")\n",
        "combination_of_sentence=sentence1+\" \"+sentence2\n",
        "sentence_split=list_of_words(combination_of_sentence)\n",
        "print(\"transforming sentences to list: \",sentence_split)\n",
        "list_of_sentence1=list_of_words(sentence1)\n",
        "list_of_sentence2=list_of_words(sentence2)\n",
        "sentence_split_1 = set(word.lower() for word in list_of_sentence1 if word.isalnum())\n",
        "sentence_split_2 = set(word.lower() for word in list_of_sentence2 if word.isalnum())\n",
        "set_of_common_words=sentence_split_1.intersection(sentence_split_2)\n",
        "\n",
        "if len(set_of_common_words)>0:\n",
        "  print(\"common words found: \",set_of_common_words)\n",
        "else:\n",
        "  print(\"no_common_words_found\")\n",
        "\n",
        "modified_sentence1=remove_characters(sentence1)\n",
        "modified_sentence2=remove_characters(sentence2)\n",
        "print(\"modified sentence1: \",modified_sentence1)\n",
        "print(\"modified sentence2: \",modified_sentence2)\n",
        "\n",
        "vowels_in_sentence1=count_vowels(sentence1)\n",
        "print(\"printing sentence1 vowels: \",vowels_in_sentence1)\n",
        "\n",
        "vowels_in_sentence2=count_vowels(sentence2)\n",
        "print(\"printing snetence2 vowels: \",vowels_in_sentence2)\n",
        "\n",
        "\n"
      ]
    },
    {
      "cell_type": "markdown",
      "source": [
        "# Question 4 (20 Points)"
      ],
      "metadata": {
        "id": "OP4-5qxAtInv"
      }
    },
    {
      "cell_type": "markdown",
      "source": [
        "Design and implement a simple command-line calculator program. The program should handle both integers and floating-point numbers.\n",
        "\n",
        "(a) Write program that takes a mathematical expression as input and evaluates it. The program should support addition, subtraction, multiplication, and division.\n",
        "\n",
        "(b) Extend the calculator to handle parentheses in mathematical expressions. Implement the necessary logic to evaluate expressions with nested parentheses.\n",
        "\n",
        "(c) Enhance your calculator to include additional mathematical operations such as exponentiation, square root, and modulus.\n",
        "\n",
        "(d) Implement error handling in the calculator program. Handle cases such as division by zero and invalid input expressions. Provide meaningful error messages.\n",
        "\n",
        "(e) Implement a command to exit the calculator."
      ],
      "metadata": {
        "id": "uzN4_hDptK9U"
      }
    },
    {
      "cell_type": "markdown",
      "source": [],
      "metadata": {
        "id": "w1h8cBytnKDe"
      }
    },
    {
      "cell_type": "code",
      "source": [
        "# Your code here\n",
        "import math\n",
        "def ProcessingofExpression(mathematicalexpression):\n",
        "    try:\n",
        "        mathematicalexpression = mathematicalexpression.strip()\n",
        "        mathematicalexpression = mathematicalexpression.replace('sqrt', 'math.sqrt')\n",
        "        result = eval(mathematicalexpression)\n",
        "        if isinstance(result, (int, float)):\n",
        "            return result\n",
        "        else:\n",
        "            return \"Result can not be determined due to the provided values\"\n",
        "    except ZeroDivisionError:\n",
        "        return \"value cannot be divided by 0\"\n",
        "    except Exception as e:\n",
        "        return f\"unexpected error has identified and is as follows:{e}\"\n",
        "print(\"Type 'stop' to exit from the caluculator.\")\n",
        "while True:\n",
        "  expression = input(\"provide a mathematical expession: \")\n",
        "  if expression.lower() == 'stop':\n",
        "    break\n",
        "  output = ProcessingofExpression(expression)\n",
        "  print(\"Output:\", output)\n",
        "\n"
      ],
      "metadata": {
        "id": "8nQnVxjJuYtu",
        "colab": {
          "base_uri": "https://localhost:8080/"
        },
        "outputId": "8754ab40-b855-4cae-fe67-acfa4ee3f8e4"
      },
      "execution_count": 9,
      "outputs": [
        {
          "name": "stdout",
          "output_type": "stream",
          "text": [
            "Type 'stop' to exit from the caluculator.\n",
            "provide a mathematical expession: 2+3\n",
            "Output: 5\n",
            "provide a mathematical expession: 6\n",
            "Output: 6\n",
            "provide a mathematical expession: 4+6\n",
            "Output: 10\n",
            "provide a mathematical expession: Stop\n"
          ]
        }
      ]
    },
    {
      "cell_type": "code",
      "source": [
        "#while I am using arguments, its displaying error in this code generator."
      ],
      "metadata": {
        "id": "m8euLbXmehAz"
      },
      "execution_count": null,
      "outputs": []
    },
    {
      "cell_type": "markdown",
      "source": [],
      "metadata": {
        "id": "3owkIkrxeihP"
      }
    },
    {
      "cell_type": "markdown",
      "metadata": {
        "id": "z3tBE7E-Xn5X"
      },
      "source": [
        "# Question 5 (30 points).\n",
        "\n",
        "In the field of Data Science, data is often formatted as a comma-delimited (CSV) file, where each line in a file corresponds to a field's value. Refer to Chapter 9 (p. 106) for more information on comma-delimited files.\n",
        "\n",
        "To answer this question, you will need to download the file [Assignment1_denton_housing.csv](https://raw.githubusercontent.com/unt-iialab/info5731-spring2022/main/assignments/Assignment1_denton_housing.csv) included with this assignment. The file contains statistics about housing in the city of Denton from 2008 to 2014. Write a program to implement the following questions.\n",
        "\n",
        "(a) (5 pts) Calculate the difference in the number of Occupied Housing Units from year to year and print it. The difference must be calculated for the consecutive years such as 2008-2009, 2009-2010 etc. Finally, print the values in the ascending order.\n",
        "\n",
        "(b) (5 pts) For all the years, calculate the percentage of housing units which are vacant an occupied. Print the results in the following format:\n",
        "\n",
        "Year Vacant Housing Units Occupied Housing Units\n",
        "\n",
        "    2008  30%   70%                          \n",
        "\t2009 ----- -----\n",
        "\t2010 ----- -----\n",
        "    2011 ----- -----\n",
        "\t2012 ----- -----\n",
        "    2013 ----- -----\n",
        "\t2014 ----- -----\n",
        "  \n",
        "  \n",
        "\n",
        "(c) (10 pts) Calculate and print the valued and years in which the highest number of housing units were vacant and occupied. Print the results in the following format:  \n",
        "\n",
        "                              Year\tValue\n",
        "\tVacant Housing Units\t  -----   -----\n",
        "\tOccupied Housing Units\t-----   -----\n",
        "\n",
        "(d) (10 pts) Calculate the harmonic mean of the total housing units and print it out. You can find the information about harmonic mean here: https://ncalculators.com/statistics/harmonic-mean-calculator.htm"
      ]
    },
    {
      "cell_type": "code",
      "execution_count": 1,
      "metadata": {
        "id": "lqGYuHBhcsRH",
        "colab": {
          "base_uri": "https://localhost:8080/"
        },
        "outputId": "b973526f-0659-4afe-f7e3-a2f82b538276"
      },
      "outputs": [
        {
          "output_type": "stream",
          "name": "stdout",
          "text": [
            "Yearly Differences in Occupied Housing Units (Sorted in Ascending Order):\n",
            "2008 - 2009: 795\n",
            "2009 - 2010: 5091\n",
            "2010 - 2011: 303\n",
            "2011 - 2012: 1404\n",
            "2012 - 2013: 1565\n",
            "2013 - 2014: 2622\n",
            "********************************************************************************\n",
            "Year  Vacant Housing Units  Occupied Housing Units\n",
            "2008\t\t  11%\t\t\t 89%\t\n",
            "2009\t\t  9%\t\t\t 91%\t\n",
            "2010\t\t  8%\t\t\t 92%\t\n",
            "2011\t\t  9%\t\t\t 91%\t\n",
            "2012\t\t  7%\t\t\t 93%\t\n",
            "2013\t\t  9%\t\t\t 91%\t\n",
            "2014\t\t  6%\t\t\t 94%\t\n",
            "********************************************************************************\n",
            "                       Year \tValue\n",
            "Vacant Housing Units \t2008 \t4483\n",
            "Occupied Housing Units \t2014 \t46295\n",
            "********************************************************************************\n",
            "Harmonic Mean : 44398.29\n"
          ]
        }
      ],
      "source": [
        " # Your code here\n",
        "\n",
        "\n",
        "def OccupiedHousingUnits(data):\n",
        "    dataofOccupiedUnits={}\n",
        "    for year,header,units in data:\n",
        "        if header.lower() == \"occupied housing units\":\n",
        "            dataofOccupiedUnits[year]=units\n",
        "    indexedData= sorted(dataofOccupiedUnits.keys())\n",
        "    differencesofConsecutiveYears=[]\n",
        "    for i in range(len(indexedData)-1):\n",
        "        priorYear=indexedData[i]\n",
        "        laterYear=indexedData[i+1]\n",
        "        difference= dataofOccupiedUnits[laterYear]-dataofOccupiedUnits[priorYear]\n",
        "        differencesofConsecutiveYears.append((f\"{priorYear} - {laterYear}\", max(difference, -difference)))\n",
        "    return differencesofConsecutiveYears\n",
        "\n",
        "def PercentageOfVacantandOccupiedUnits(data):\n",
        "    completeUnits = {}\n",
        "    vacantHousingUnits = {}\n",
        "    occupiedHousingUnits = {}\n",
        "    for year, unit, figure in data:\n",
        "        if unit == \"Total Housing Units\":\n",
        "            completeUnits[year] = figure\n",
        "        elif unit == \"Vacant Housing Units\":\n",
        "            vacantHousingUnits[year] = figure\n",
        "        elif unit == \"Occupied Housing Units\":\n",
        "            occupiedHousingUnits[year] = figure\n",
        "    finalCaluculations = []\n",
        "    sortedCompleteUnits = sorted(set(completeUnits.keys()))\n",
        "    sortedVacantHousingUnits= sorted(set(vacantHousingUnits.keys()))\n",
        "    sortedOccupiedHousingUnits= sorted(set(occupiedHousingUnits.keys()))\n",
        "    totalYears=(set(sortedCompleteUnits) | set(sortedVacantHousingUnits) | set(sortedOccupiedHousingUnits))\n",
        "    for year in totalYears:\n",
        "        if year in completeUnits:\n",
        "            final = completeUnits[year]\n",
        "            vacant = vacantHousingUnits.get(year, 0)\n",
        "            occupied = occupiedHousingUnits.get(year, 0)\n",
        "            if final == 0:\n",
        "                vacantPercentage = \"No Data\"\n",
        "                occupiedPercentage = \"No Data\"\n",
        "            else:\n",
        "                vacantPercentage = f\"{round(vacant / final * 100)}%\"\n",
        "                occupiedPercentage = f\"{round(occupied / final * 100)}%\"\n",
        "            finalCaluculations.append((year, vacantPercentage, occupiedPercentage))\n",
        "    return finalCaluculations\n",
        "\n",
        "def HighestOfVacantandOcuupiedUnits(data):\n",
        "    vacantHousingUnits = {}\n",
        "    occupiedHousingUnits = {}\n",
        "    for year, unit, figure in data:\n",
        "        if unit == \"Vacant Housing Units\":\n",
        "            vacantHousingUnits[year] = figure\n",
        "        elif unit == \"Occupied Housing Units\":\n",
        "            occupiedHousingUnits[year] = figure\n",
        "    maxVacantUnitValue = list(vacantHousingUnits.values())\n",
        "    maxVacantUnitkey = list(vacantHousingUnits.keys())\n",
        "    maxOccupiedUnitValue = list(occupiedHousingUnits.values())\n",
        "    maxOccupiedUnitkey = list(occupiedHousingUnits.keys())\n",
        "    highestValues=[]\n",
        "    highestValues.append((\"Vacant Housing Units\",maxVacantUnitkey[maxVacantUnitValue.index(max(maxVacantUnitValue))],max(maxVacantUnitValue)))\n",
        "    highestValues.append((\"Occupied Housing Units\",maxOccupiedUnitkey[maxOccupiedUnitValue.index(max(maxOccupiedUnitValue))],max(maxOccupiedUnitValue)))\n",
        "    return highestValues\n",
        "\n",
        "def HarmonicMean(data):\n",
        "    listOfTotalHousingUnits=[]\n",
        "    for year, unit, figure in data:\n",
        "        if unit == \"Total Housing Units\":\n",
        "            listOfTotalHousingUnits.append(figure)\n",
        "    listOfTotalHousingUnits.sort()\n",
        "    denominator=0\n",
        "    for i in listOfTotalHousingUnits:\n",
        "        denominator+=1/i\n",
        "    harmonicMean= len(listOfTotalHousingUnits)/denominator\n",
        "    return harmonicMean\n",
        "\n",
        "datafoProcessing=[(2014, \"Total Housing Units\", 49109),\n",
        "        (2014, \"Vacant Housing Units\", 2814),\n",
        "        (2014, \"Occupied Housing Units\", 46295),\n",
        "        (2013, \"Total Housing Units\", 47888),\n",
        "        (2013, \"Vacant Housing Units\", 4215),\n",
        "        (2013, \"Occupied Housing Units\", 43673),\n",
        "        (2012, \"Total Housing Units\", 45121),\n",
        "        (2012, \"Vacant Housing Units\", 3013),\n",
        "        (2012, \"Occupied Housing Units\", 42108),\n",
        "        (2011, \"Total Housing Units\", 44917),\n",
        "        (2011, \"Vacant Housing Units\", 4213),\n",
        "        (2011, \"Occupied Housing Units\", 40704),\n",
        "        (2010, \"Total Housing Units\", 44642),\n",
        "        (2010, \"Vacant Housing Units\", 3635),\n",
        "        (2010, \"Occupied Housing Units\", 41007),\n",
        "        (2009, \"Total Housing Units\", 39499),\n",
        "        (2009, \"Vacant Housing Units\", 3583),\n",
        "        (2009, \"Occupied Housing Units\", 35916),\n",
        "        (2008, \"Total Housing Units\", 41194),\n",
        "        (2008, \"Vacant Housing Units\", 4483),\n",
        "        (2008, \"Occupied Housing Units\", 36711),\n",
        "        (2014, \"Owner Occupied\", 21427),\n",
        "        (2014, \"Renter Occupied\", 24868),\n",
        "        (2013, \"Owner Occupied\", 20845),\n",
        "        (2013, \"Renter Occupied\", 22828),\n",
        "        (2012, \"Owner Occupied\", 20068),\n",
        "        (2012, \"Renter Occupied\", 22040),\n",
        "        (2011, \"Owner Occupied\", 18478),\n",
        "        (2011, \"Renter Occupied\", 22226),\n",
        "        (2010, \"Owner Occupied\", 18867),\n",
        "        (2010, \"Renter Occupied\", 22140),\n",
        "        (2009, \"Owner Occupied\", 18057),\n",
        "        (2009, \"Renter Occupied\", 17859),\n",
        "        (2008, \"Owner Occupied\", 17340),\n",
        "        (2008, \"Renter Occupied\", 19371),\n",
        "        (2014, \"Median Gross Rent\", 905),\n",
        "        (2013, \"Median Gross Rent\", 887),\n",
        "        (2012, \"Median Gross Rent\", 842),\n",
        "        (2011, \"Median Gross Rent\", 821),\n",
        "        (2010, \"Median Gross Rent\", 780),\n",
        "        (2009, \"Median Gross Rent\", 769),\n",
        "        (2008, \"Median Gross Rent\", 768)]\n",
        "differeceInOccupiedHousingUnits = OccupiedHousingUnits(datafoProcessing)\n",
        "print(\"Yearly Differences in Occupied Housing Units (Sorted in Ascending Order):\")\n",
        "for year_range, difference in differeceInOccupiedHousingUnits:\n",
        "    print(f\"{year_range}: {difference}\")\n",
        "print(\"*\"*80)\n",
        "percentageOfHousingUnits = PercentageOfVacantandOccupiedUnits(datafoProcessing)\n",
        "print(\"Year  Vacant Housing Units  Occupied Housing Units\")\n",
        "for year, vacantPercentage, occupiedPercentage in percentageOfHousingUnits:\n",
        "    print(f\"{year}\\t\\t  {vacantPercentage}\\t\\t\\t {occupiedPercentage}\\t\")\n",
        "print(\"*\"*80)\n",
        "highestVals=HighestOfVacantandOcuupiedUnits(datafoProcessing)\n",
        "print(\"                       Year \\tValue\")\n",
        "for unit, year, value in highestVals:\n",
        "    print(f\"{unit} \\t{year} \\t{value}\")\n",
        "print(\"*\"*80)\n",
        "print(\"Harmonic Mean :\",round(HarmonicMean(datafoProcessing),2))"
      ]
    },
    {
      "cell_type": "markdown",
      "source": [
        "# Mandatory Question\n",
        "\n",
        "Provide your thoughts on the assignment. What did you find challenging, and what aspects did you enjoy? Your opinion on the provided time to complete the assignment. Share any suggestions for improvement. Your feedback will be valuable for enhancing the learning experience."
      ],
      "metadata": {
        "id": "q8BFCvWp32cf"
      }
    },
    {
      "cell_type": "code",
      "source": [
        "# Write your response below\n",
        "\n",
        "My thoughts on assignment was, got challanging questions. But, while doing assignment I learnt many concepts indepth and the challange I faced was initially I felt very difficult to write a logic.But, I have gone through the point to point the question asked by in the assignment annd so I made in parts each question and solved in a parts and combined all the soultions or parts to complete the whole problem. I felt really happy inside and I'm satisfied with the solutions and the problem solving skills I got while doing the assignemnt. My suggestions are I need some more questions to solve so that the handson knowledge we get through solving makes us to be a top coders. I Love python solving. So I enjoyed the assignemnt."
      ],
      "metadata": {
        "id": "_e557s2w4BpK"
      },
      "execution_count": null,
      "outputs": []
    }
  ],
  "metadata": {
    "colab": {
      "provenance": [],
      "toc_visible": true,
      "include_colab_link": true
    },
    "kernelspec": {
      "display_name": "Python 3 (ipykernel)",
      "language": "python",
      "name": "python3"
    },
    "language_info": {
      "codemirror_mode": {
        "name": "ipython",
        "version": 3
      },
      "file_extension": ".py",
      "mimetype": "text/x-python",
      "name": "python",
      "nbconvert_exporter": "python",
      "pygments_lexer": "ipython3",
      "version": "3.9.12"
    }
  },
  "nbformat": 4,
  "nbformat_minor": 0
}