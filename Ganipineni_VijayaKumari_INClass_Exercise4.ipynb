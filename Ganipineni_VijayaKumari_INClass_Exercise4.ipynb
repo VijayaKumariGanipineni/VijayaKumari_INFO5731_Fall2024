{
  "cells": [
    {
      "cell_type": "markdown",
      "metadata": {
        "id": "view-in-github",
        "colab_type": "text"
      },
      "source": [
        "<a href=\"https://colab.research.google.com/github/VijayaKumariGanipineni/VijayaKumari_INFO5731_Fall2024/blob/main/Ganipineni_VijayaKumari_INClass_Exercise4.ipynb\" target=\"_parent\"><img src=\"https://colab.research.google.com/assets/colab-badge.svg\" alt=\"Open In Colab\"/></a>"
      ]
    },
    {
      "cell_type": "markdown",
      "metadata": {
        "id": "VdRwkJBn70nX"
      },
      "source": [
        "# **INFO5731 In-class Exercise 4**\n",
        "\n",
        "**This exercise will provide a valuable learning experience in working with text data and extracting features using various topic modeling algorithms. Key concepts such as Latent Dirichlet Allocation (LDA), Latent Semantic Analysis (LSA), lda2vec, and BERTopic.**"
      ]
    },
    {
      "cell_type": "markdown",
      "source": [
        "***Please use the text corpus you collected in your last in-class-exercise for this exercise. Perform the following tasks***.\n",
        "\n",
        "**Expectations**:\n",
        "*   Students are expected to complete the exercise during lecture period to meet the active participation criteria of the course.\n",
        "*   Use the provided .*ipynb* document to write your code & respond to the questions. Avoid generating a new file.\n",
        "*   Write complete answers and run all the cells before submission.\n",
        "*   Make sure the submission is \"clean\"; *i.e.*, no unnecessary code cells.\n",
        "*   Once finished, allow shared rights from top right corner (*see Canvas for details*).\n",
        "\n",
        "**Total points**: 40\n",
        "\n",
        "**Deadline**: This in-class exercise is due at the end of the day tomorrow, at 11:59 PM.\n",
        "\n",
        "**Late submissions will have a penalty of 10% of the marks for each day of late submission, and no requests will be answered. Manage your time accordingly.**\n"
      ],
      "metadata": {
        "id": "TU-pLW33lpcS"
      }
    },
    {
      "cell_type": "markdown",
      "metadata": {
        "id": "ARqm7u6B70ne"
      },
      "source": [
        "## Question 1 (10 Points)\n",
        "\n",
        "**Generate K topics by using LDA, the number of topics K should be decided by the coherence score, then summarize what are the topics.**\n",
        "\n",
        "You may refer the code here: https://www.machinelearningplus.com/nlp/topic-modeling-gensim-python/"
      ]
    },
    {
      "cell_type": "code",
      "execution_count": 1,
      "metadata": {
        "id": "VAZj4PHB70nf",
        "colab": {
          "base_uri": "https://localhost:8080/"
        },
        "outputId": "4181f779-75f2-4048-8e88-e8d8694b899f"
      },
      "outputs": [
        {
          "output_type": "stream",
          "name": "stderr",
          "text": [
            "[nltk_data] Downloading package stopwords to /root/nltk_data...\n",
            "[nltk_data]   Unzipping corpora/stopwords.zip.\n"
          ]
        },
        {
          "output_type": "execute_result",
          "data": {
            "text/plain": [
              "True"
            ]
          },
          "metadata": {},
          "execution_count": 1
        }
      ],
      "source": [
        "# Write your code here\n",
        "import nltk\n",
        "nltk.download('stopwords')"
      ]
    },
    {
      "cell_type": "code",
      "source": [
        "import spacy"
      ],
      "metadata": {
        "id": "0AIuwBENUEBF"
      },
      "execution_count": 2,
      "outputs": []
    },
    {
      "cell_type": "code",
      "source": [
        "import tensorflow_datasets as tfds\n",
        "import tensorflow as tf"
      ],
      "metadata": {
        "id": "YXCwhXqgUI9F"
      },
      "execution_count": 3,
      "outputs": []
    },
    {
      "cell_type": "code",
      "source": [
        "sample_data= [\"Data is the new oil. But like oil, data is valuable not in its raw form, but when it's processed into actionable insights.\",\n",
        "    \"In God we trust, all others must bring data.\",\n",
        "    \"The goal is to turn data into information, and information into insight.\",\n",
        "    \"Without big data analytics, companies are blind and deaf, wandering out onto the web like deer on a freeway.\",\n",
        "    \"Data will talk if you're willing to listen to it.\",\n",
        "    \"Information is the oil of the 21st century, and analytics is the combustion engine.\",\n",
        "    \"Data is like garbage. You'd better know what you are going to do with it before you collect it.\"\n",
        "]"
      ],
      "metadata": {
        "id": "47IAFF-bUOWi"
      },
      "execution_count": 30,
      "outputs": []
    },
    {
      "cell_type": "code",
      "source": [
        "import nltk\n",
        "nltk.download('punkt')"
      ],
      "metadata": {
        "colab": {
          "base_uri": "https://localhost:8080/"
        },
        "id": "hyTLf3jEUS5p",
        "outputId": "6b748a87-5807-4465-d20d-fdc341225035"
      },
      "execution_count": 31,
      "outputs": [
        {
          "output_type": "stream",
          "name": "stderr",
          "text": [
            "[nltk_data] Downloading package punkt to /root/nltk_data...\n",
            "[nltk_data]   Package punkt is already up-to-date!\n"
          ]
        },
        {
          "output_type": "execute_result",
          "data": {
            "text/plain": [
              "True"
            ]
          },
          "metadata": {},
          "execution_count": 31
        }
      ]
    },
    {
      "cell_type": "code",
      "source": [
        "import gensim\n",
        "from gensim import corpora\n",
        "from gensim.models import LdaModel\n",
        "from gensim.models import CoherenceModel\n",
        "from nltk.corpus import stopwords\n",
        "from nltk.tokenize import word_tokenize\n",
        "import matplotlib.pyplot as plt\n",
        "\n",
        "# Preprocess the data\n",
        "stop_words = set(stopwords.words('english'))\n",
        "tok_data = [word_tokenize(doc.lower()) for doc in sample_review_data]\n",
        "tok_data = [[word for word in doc if word.isalnum() and word not in stop_words] for doc in tok_data]\n",
        "\n",
        "# Create a dictionary and corpus\n",
        "dictionary = corpora.Dictionary(tok_data)\n",
        "corpus = [dictionary.doc2bow(doc) for doc in tok_data]\n",
        "\n",
        "# Determine the optimal number of topics (K)\n",
        "coherence_scores = []\n",
        "for k in range(2, 11):  # Try K values from 2 to 10\n",
        "    lda_model = LdaModel(corpus=corpus, id2word=dictionary, num_topics=k)\n",
        "    coherence_model = CoherenceModel(model=lda_model, texts=tok_data, dictionary=dictionary, coherence='c_v')\n",
        "    coherence_score = coherence_model.get_coherence()\n",
        "    coherence_scores.append((k, coherence_score))\n",
        "    print(f\"Coherence Score for K={k}: {coherence_score}\")\n",
        "\n",
        "# Choose the K value with the highest coherence score\n",
        "best_k, best_coherence = max(coherence_scores, key=lambda x: x[1])\n",
        "print(f\"Optimal number of topics (K): {best_k} with coherence score: {best_coherence}\")\n",
        "\n",
        "# Plot the coherence scores\n",
        "k_values, coherence_scores = zip(*coherence_scores)\n",
        "plt.plot(k_values, coherence_scores)\n",
        "plt.xlabel(\"Number of Topics (K)\")\n",
        "plt.ylabel(\"Coherence Score\")\n",
        "plt.title(\"Coherence Score vs. Number of Topics\")\n",
        "plt.show()\n",
        "\n",
        "# Train the LDA model with the optimal K\n",
        "lda_model = LdaModel(corpus=corpus, id2word=dictionary, num_topics=best_k)\n",
        "\n",
        "# Interpret the topics\n",
        "topics = lda_model.print_topics(num_words=5)\n",
        "for topic in topics:\n",
        "    print(topic)\n",
        "# Interpret the topics\n",
        "topics = lda_model.print_topics(num_words=5)\n",
        "\n",
        "for topic_id, topic_words in topics:\n",
        "    print(f\"Topic {topic_id}:\")\n",
        "    words = [word for word, _ in lda_model.show_topic(topic_id, topn=5)]\n",
        "    topic_definition = \", \".join(words)\n",
        "    print(f\"Keywords: {topic_definition}\")\n",
        "    print()"
      ],
      "metadata": {
        "colab": {
          "base_uri": "https://localhost:8080/",
          "height": 1000
        },
        "id": "iAha7TghUZ_x",
        "outputId": "0ca3571c-6cce-400f-faf6-8f59b6a9b4ae"
      },
      "execution_count": 32,
      "outputs": [
        {
          "output_type": "stream",
          "name": "stderr",
          "text": [
            "WARNING:gensim.models.ldamodel:too few updates, training might not converge; consider increasing the number of passes or iterations to improve accuracy\n",
            "WARNING:gensim.models.ldamodel:too few updates, training might not converge; consider increasing the number of passes or iterations to improve accuracy\n"
          ]
        },
        {
          "output_type": "stream",
          "name": "stdout",
          "text": [
            "Coherence Score for K=2: 0.4184798325138954\n"
          ]
        },
        {
          "output_type": "stream",
          "name": "stderr",
          "text": [
            "WARNING:gensim.models.ldamodel:too few updates, training might not converge; consider increasing the number of passes or iterations to improve accuracy\n"
          ]
        },
        {
          "output_type": "stream",
          "name": "stdout",
          "text": [
            "Coherence Score for K=3: 0.40045239751980805\n"
          ]
        },
        {
          "output_type": "stream",
          "name": "stderr",
          "text": [
            "WARNING:gensim.models.ldamodel:too few updates, training might not converge; consider increasing the number of passes or iterations to improve accuracy\n"
          ]
        },
        {
          "output_type": "stream",
          "name": "stdout",
          "text": [
            "Coherence Score for K=4: 0.48107737975718534\n"
          ]
        },
        {
          "output_type": "stream",
          "name": "stderr",
          "text": [
            "WARNING:gensim.models.ldamodel:too few updates, training might not converge; consider increasing the number of passes or iterations to improve accuracy\n"
          ]
        },
        {
          "output_type": "stream",
          "name": "stdout",
          "text": [
            "Coherence Score for K=5: 0.4514843851423976\n"
          ]
        },
        {
          "output_type": "stream",
          "name": "stderr",
          "text": [
            "WARNING:gensim.models.ldamodel:too few updates, training might not converge; consider increasing the number of passes or iterations to improve accuracy\n"
          ]
        },
        {
          "output_type": "stream",
          "name": "stdout",
          "text": [
            "Coherence Score for K=6: 0.48169634503884007\n"
          ]
        },
        {
          "output_type": "stream",
          "name": "stderr",
          "text": [
            "WARNING:gensim.models.ldamodel:too few updates, training might not converge; consider increasing the number of passes or iterations to improve accuracy\n"
          ]
        },
        {
          "output_type": "stream",
          "name": "stdout",
          "text": [
            "Coherence Score for K=7: 0.5057430980119588\n"
          ]
        },
        {
          "output_type": "stream",
          "name": "stderr",
          "text": [
            "WARNING:gensim.models.ldamodel:too few updates, training might not converge; consider increasing the number of passes or iterations to improve accuracy\n"
          ]
        },
        {
          "output_type": "stream",
          "name": "stdout",
          "text": [
            "Coherence Score for K=8: 0.4945324557129661\n"
          ]
        },
        {
          "output_type": "stream",
          "name": "stderr",
          "text": [
            "WARNING:gensim.models.ldamodel:too few updates, training might not converge; consider increasing the number of passes or iterations to improve accuracy\n"
          ]
        },
        {
          "output_type": "stream",
          "name": "stdout",
          "text": [
            "Coherence Score for K=9: 0.5035561556365828\n",
            "Coherence Score for K=10: 0.5113851548132996\n",
            "Optimal number of topics (K): 10 with coherence score: 0.5113851548132996\n"
          ]
        },
        {
          "output_type": "display_data",
          "data": {
            "text/plain": [
              "<Figure size 640x480 with 1 Axes>"
            ],
            "image/png": "[encoded data removed]"
          },
          "metadata": {}
        },
        {
          "output_type": "stream",
          "name": "stderr",
          "text": [
            "WARNING:gensim.models.ldamodel:too few updates, training might not converge; consider increasing the number of passes or iterations to improve accuracy\n"
          ]
        },
        {
          "output_type": "stream",
          "name": "stdout",
          "text": [
            "(0, '0.098*\"data\" + 0.098*\"like\" + 0.098*\"going\" + 0.098*\"collect\" + 0.098*\"know\"')\n",
            "(1, '0.024*\"data\" + 0.024*\"information\" + 0.024*\"listen\" + 0.024*\"oil\" + 0.024*\"like\"')\n",
            "(2, '0.024*\"data\" + 0.024*\"oil\" + 0.024*\"information\" + 0.024*\"talk\" + 0.024*\"willing\"')\n",
            "(3, '0.130*\"oil\" + 0.130*\"data\" + 0.068*\"form\" + 0.068*\"like\" + 0.068*\"actionable\"')\n",
            "(4, '0.024*\"data\" + 0.024*\"information\" + 0.024*\"oil\" + 0.024*\"talk\" + 0.024*\"analytics\"')\n",
            "(5, '0.148*\"data\" + 0.077*\"others\" + 0.077*\"bring\" + 0.077*\"god\" + 0.077*\"must\"')\n",
            "(6, '0.024*\"data\" + 0.024*\"information\" + 0.024*\"analytics\" + 0.024*\"oil\" + 0.024*\"like\"')\n",
            "(7, '0.180*\"information\" + 0.064*\"data\" + 0.064*\"21st\" + 0.064*\"century\" + 0.064*\"engine\"')\n",
            "(8, '0.024*\"data\" + 0.024*\"analytics\" + 0.024*\"like\" + 0.024*\"information\" + 0.024*\"willing\"')\n",
            "(9, '0.064*\"data\" + 0.064*\"like\" + 0.064*\"deer\" + 0.064*\"companies\" + 0.064*\"onto\"')\n",
            "Topic 0:\n",
            "Keywords: data, like, going, collect, know\n",
            "\n",
            "Topic 1:\n",
            "Keywords: data, information, listen, oil, like\n",
            "\n",
            "Topic 2:\n",
            "Keywords: data, oil, information, talk, willing\n",
            "\n",
            "Topic 3:\n",
            "Keywords: oil, data, form, like, actionable\n",
            "\n",
            "Topic 4:\n",
            "Keywords: data, information, oil, talk, analytics\n",
            "\n",
            "Topic 5:\n",
            "Keywords: data, others, bring, god, must\n",
            "\n",
            "Topic 6:\n",
            "Keywords: data, information, analytics, oil, like\n",
            "\n",
            "Topic 7:\n",
            "Keywords: information, data, 21st, century, engine\n",
            "\n",
            "Topic 8:\n",
            "Keywords: data, analytics, like, information, willing\n",
            "\n",
            "Topic 9:\n",
            "Keywords: data, like, deer, companies, onto\n",
            "\n"
          ]
        }
      ]
    },
    {
      "cell_type": "markdown",
      "metadata": {
        "id": "dEUjBE6C70nf"
      },
      "source": [
        "## Question 2 (10 Points)\n",
        "\n",
        "**Generate K topics by using LSA, the number of topics K should be decided by the coherence score, then summarize what are the topics.**\n",
        "\n",
        "You may refer the code here: https://www.datacamp.com/community/tutorials/discovering-hidden-topics-python"
      ]
    },
    {
      "cell_type": "code",
      "execution_count": 33,
      "metadata": {
        "id": "EoQX5s4O70nf",
        "colab": {
          "base_uri": "https://localhost:8080/",
          "height": 646
        },
        "outputId": "34b3f46d-9d13-4774-f437-79e75f6f630e"
      },
      "outputs": [
        {
          "output_type": "display_data",
          "data": {
            "text/plain": [
              "<Figure size 640x480 with 1 Axes>"
            ],
            "image/png": "[encoded data removed]"
          },
          "metadata": {}
        },
        {
          "output_type": "stream",
          "name": "stdout",
          "text": [
            "The optimal number of topics is: 7\n",
            "\n",
            "Topics and top keywords:\n",
            "Topic 1: information, datum, oil, insight, analytic\n",
            "Topic 2: information, century, combustion, engine, goal\n",
            "Topic 3: bring, god, trust, willing, listen\n",
            "Topic 4: willing, talk, listen, datum, information\n",
            "Topic 5: know, collect, garbage, go, well\n",
            "Topic 6: oil, valuable, raw, process, new\n",
            "Topic 7: combustion, engine, century, analytic, oil\n"
          ]
        }
      ],
      "source": [
        "# Write your code here\n",
        "\n",
        "\n",
        "# Write your code here\n",
        "# Import necessary libraries\n",
        "import pandas as pd\n",
        "import numpy as np\n",
        "from gensim import corpora, models\n",
        "from gensim.models import CoherenceModel\n",
        "import spacy\n",
        "import matplotlib.pyplot as plt\n",
        "from sklearn.decomposition import TruncatedSVD\n",
        "from sklearn.feature_extraction.text import TfidfVectorizer\n",
        "\n",
        "# Load spaCy model for lemmatization\n",
        "nlp = spacy.load(\"en_core_web_sm\")\n",
        "\n",
        "# Example text data\n",
        "# Replace this with your actual data\n",
        "sample_data = [\n",
        "    \"Data is the new oil. But like oil, data is valuable not in its raw form, but when it's processed into actionable insights.\",\n",
        "    \"In God we trust, all others must bring data.\",\n",
        "    \"The goal is to turn data into information, and information into insight.\",\n",
        "    \"Without big data analytics, companies are blind and deaf, wandering out onto the web like deer on a freeway.\",\n",
        "    \"Data will talk if you're willing to listen to it.\",\n",
        "    \"Information is the oil of the 21st century, and analytics is the combustion engine.\",\n",
        "    \"Data is like garbage. You'd better know what you are going to do with it before you collect it.\"\n",
        "]\n",
        "\n",
        "# Preprocessing function\n",
        "def preprocess_text(texts):\n",
        "    processed_texts = []\n",
        "    for doc in texts:\n",
        "        doc = nlp(doc.lower())\n",
        "        tokens = [token.lemma_ for token in doc if token.is_alpha and not token.is_stop]\n",
        "        processed_texts.append(\" \".join(tokens))\n",
        "    return processed_texts\n",
        "\n",
        "# Preprocess the data\n",
        "processed_data = preprocess_text(data)\n",
        "\n",
        "# Create TF-IDF matrix\n",
        "vectorizer = TfidfVectorizer()\n",
        "tfidf_matrix = vectorizer.fit_transform(processed_data)\n",
        "\n",
        "# Function to calculate coherence score for different K values\n",
        "def compute_coherence_values(tfidf_matrix, texts, dictionary, limit, start=2, step=1):\n",
        "    coherence_values = []\n",
        "    model_list = []\n",
        "    for num_topics in range(start, limit, step):\n",
        "        # Apply LSA using SVD\n",
        "        svd_model = TruncatedSVD(n_components=num_topics, random_state=42)\n",
        "        lsa_topics = svd_model.fit_transform(tfidf_matrix)\n",
        "\n",
        "        # Get topic words and coherence score\n",
        "        topics = [[vectorizer.get_feature_names_out()[i] for i in topic.argsort()[:-6:-1]] for topic in svd_model.components_]\n",
        "        model_list.append(topics)\n",
        "\n",
        "        # Convert topics to gensim-readable format for coherence score\n",
        "        gensim_corpus = [dictionary.doc2bow(text.split()) for text in texts]\n",
        "        coherence_model = CoherenceModel(topics=topics, texts=[text.split() for text in texts], dictionary=dictionary, coherence='c_v')\n",
        "        coherence_values.append(coherence_model.get_coherence())\n",
        "\n",
        "    return model_list, coherence_values\n",
        "\n",
        "# Create dictionary\n",
        "dictionary = corpora.Dictionary([text.split() for text in processed_data])\n",
        "\n",
        "# Determine the optimal number of topics\n",
        "limit = 15\n",
        "start = 2\n",
        "step = 1\n",
        "model_list, coherence_values = compute_coherence_values(tfidf_matrix, processed_data, dictionary, start=start, limit=limit, step=step)\n",
        "\n",
        "# Plot coherence score vs. number of topics\n",
        "x = range(start, limit, step)\n",
        "plt.plot(x, coherence_values,color='red')\n",
        "plt.xlabel(\"Number of Topics\")\n",
        "plt.ylabel(\"Coherence Score\")\n",
        "plt.title(\"Optimal Number of Topics\")\n",
        "plt.show()\n",
        "\n",
        "# Select the model with the highest coherence score\n",
        "optimal_index = coherence_values.index(max(coherence_values))\n",
        "optimal_topics = model_list[optimal_index]\n",
        "optimal_k = x[optimal_index]\n",
        "\n",
        "print(f\"The optimal number of topics is: {optimal_k}\")\n",
        "\n",
        "# Print topics and top keywords\n",
        "print(\"\\nTopics and top keywords:\")\n",
        "for idx, topic in enumerate(optimal_topics):\n",
        "    print(f\"Topic {idx+1}: {', '.join(topic)}\")\n"
      ]
    },
    {
      "cell_type": "markdown",
      "metadata": {
        "id": "7oSK4soH70nf"
      },
      "source": [
        "## Question 3 (10 points):\n",
        "**Generate K topics by using lda2vec, the number of topics K should be decided by the coherence score, then summarize what are the topics.**\n",
        "\n",
        "You may refer the code here: https://nbviewer.org/github/cemoody/lda2vec/blob/master/examples/twenty_newsgroups/lda2vec/lda2vec.ipynb"
      ]
    },
    {
      "cell_type": "code",
      "execution_count": 24,
      "metadata": {
        "id": "2CRuXfV570ng",
        "colab": {
          "base_uri": "https://localhost:8080/",
          "height": 854
        },
        "outputId": "297e7756-3f92-494d-fcea-8eb0895e1ff4"
      },
      "outputs": [
        {
          "output_type": "stream",
          "name": "stderr",
          "text": [
            "[nltk_data] Downloading package stopwords to /root/nltk_data...\n",
            "[nltk_data]   Package stopwords is already up-to-date!\n",
            "[nltk_data] Downloading package punkt to /root/nltk_data...\n",
            "[nltk_data]   Package punkt is already up-to-date!\n",
            "WARNING:gensim.models.ldamodel:too few updates, training might not converge; consider increasing the number of passes or iterations to improve accuracy\n",
            "WARNING:gensim.models.ldamodel:too few updates, training might not converge; consider increasing the number of passes or iterations to improve accuracy\n"
          ]
        },
        {
          "output_type": "stream",
          "name": "stdout",
          "text": [
            "Coherence score for K=2: 0.3686506435631909\n"
          ]
        },
        {
          "output_type": "stream",
          "name": "stderr",
          "text": [
            "WARNING:gensim.models.ldamodel:too few updates, training might not converge; consider increasing the number of passes or iterations to improve accuracy\n"
          ]
        },
        {
          "output_type": "stream",
          "name": "stdout",
          "text": [
            "Coherence score for K=3: 0.4106233969219064\n"
          ]
        },
        {
          "output_type": "stream",
          "name": "stderr",
          "text": [
            "WARNING:gensim.models.ldamodel:too few updates, training might not converge; consider increasing the number of passes or iterations to improve accuracy\n"
          ]
        },
        {
          "output_type": "stream",
          "name": "stdout",
          "text": [
            "Coherence score for K=4: 0.4717188759666698\n"
          ]
        },
        {
          "output_type": "stream",
          "name": "stderr",
          "text": [
            "WARNING:gensim.models.ldamodel:too few updates, training might not converge; consider increasing the number of passes or iterations to improve accuracy\n"
          ]
        },
        {
          "output_type": "stream",
          "name": "stdout",
          "text": [
            "Coherence score for K=5: 0.4944497633490121\n"
          ]
        },
        {
          "output_type": "stream",
          "name": "stderr",
          "text": [
            "WARNING:gensim.models.ldamodel:too few updates, training might not converge; consider increasing the number of passes or iterations to improve accuracy\n"
          ]
        },
        {
          "output_type": "stream",
          "name": "stdout",
          "text": [
            "Coherence score for K=6: 0.4933815248521211\n"
          ]
        },
        {
          "output_type": "stream",
          "name": "stderr",
          "text": [
            "WARNING:gensim.models.ldamodel:too few updates, training might not converge; consider increasing the number of passes or iterations to improve accuracy\n"
          ]
        },
        {
          "output_type": "stream",
          "name": "stdout",
          "text": [
            "Coherence score for K=7: 0.4930276888300432\n"
          ]
        },
        {
          "output_type": "stream",
          "name": "stderr",
          "text": [
            "WARNING:gensim.models.ldamodel:too few updates, training might not converge; consider increasing the number of passes or iterations to improve accuracy\n"
          ]
        },
        {
          "output_type": "stream",
          "name": "stdout",
          "text": [
            "Coherence score for K=8: 0.5208105230306593\n"
          ]
        },
        {
          "output_type": "stream",
          "name": "stderr",
          "text": [
            "WARNING:gensim.models.ldamodel:too few updates, training might not converge; consider increasing the number of passes or iterations to improve accuracy\n"
          ]
        },
        {
          "output_type": "stream",
          "name": "stdout",
          "text": [
            "Coherence score for K=9: 0.5025726751961215\n",
            "Coherence score for K=10: 0.5117221098265492\n"
          ]
        },
        {
          "output_type": "display_data",
          "data": {
            "text/plain": [
              "<Figure size 640x480 with 1 Axes>"
            ],
            "image/png": "[encoded data removed]"
          },
          "metadata": {}
        }
      ],
      "source": [
        "# Write your code here\n",
        "import nltk\n",
        "from nltk.corpus import stopwords\n",
        "from nltk.tokenize import word_tokenize\n",
        "import matplotlib.pyplot as plt\n",
        "import gensim\n",
        "from gensim.models import LdaModel\n",
        "from gensim.corpora import Dictionary\n",
        "from gensim.models import CoherenceModel\n",
        "\n",
        "nltk.download('stopwords')\n",
        "nltk.download('punkt')\n",
        "\n",
        "# Sample data\n",
        "sample_data = [\n",
        "    \"Data is the new oil. But like oil, data is valuable not in its raw form, but when it's processed into actionable insights.\",\n",
        "    \"In God we trust, all others must bring data.\",\n",
        "    \"The goal is to turn data into information, and information into insight.\",\n",
        "    \"Without big data analytics, companies are blind and deaf, wandering out onto the web like deer on a freeway.\",\n",
        "    \"Data will talk if you're willing to listen to it.\",\n",
        "    \"Information is the oil of the 21st century, and analytics is the combustion engine.\",\n",
        "    \"Data is like garbage. You'd better know what you are going to do with it before you collect it.\"\n",
        "]\n",
        "\n",
        "# Tokenize and preprocess the data\n",
        "stop_words = set(stopwords.words('english'))\n",
        "\n",
        "def preprocess(text):\n",
        "    words = word_tokenize(text)\n",
        "    words = [word.lower() for word in words if word.isalpha() and word.lower() not in stop_words]\n",
        "    return words\n",
        "\n",
        "processed_data = [preprocess(text) for text in sample_data]\n",
        "\n",
        "# Create a dictionary and a corpus\n",
        "dictionary = Dictionary(processed_data)\n",
        "corpus = [dictionary.doc2bow(doc) for doc in processed_data]\n",
        "\n",
        "# Define a function to calculate coherence score\n",
        "def calculate_coherence_score(corpus, dictionary, texts, k, alpha, beta):\n",
        "    lda_model = LdaModel(corpus=corpus, id2word=dictionary, num_topics=k, alpha=alpha, eta=beta)\n",
        "    coherence_model = CoherenceModel(model=lda_model, texts=texts, dictionary=dictionary, coherence='c_v')\n",
        "    coherence_score = coherence_model.get_coherence()\n",
        "    return coherence_score\n",
        "\n",
        "# Define a range of K values to try\n",
        "k_values = range(2, 11)\n",
        "\n",
        "# Initialize lists to store coherence scores\n",
        "coherence_scores = []\n",
        "\n",
        "# Hyperparameters for LDA\n",
        "alpha = 'auto'  # Auto-set the alpha parameter\n",
        "beta = 'auto'   # Auto-set the beta parameter\n",
        "\n",
        "# Calculate coherence scores for different values of K\n",
        "for k in k_values:\n",
        "    coherence_score = calculate_coherence_score(corpus, dictionary, processed_data, k, alpha, beta)\n",
        "    coherence_scores.append(coherence_score)\n",
        "    print(f\"Coherence score for K={k}: {coherence_score}\")\n",
        "\n",
        "# Plot the coherence scores\n",
        "plt.plot(k_values, coherence_scores)\n",
        "plt.xlabel('Number of Topics (K)')\n",
        "plt.ylabel('Coherence Score')\n",
        "plt.title('Coherence Score vs. Number of Topics (K)')\n",
        "plt.show()"
      ]
    },
    {
      "cell_type": "markdown",
      "metadata": {
        "id": "7nZGAOwl70ng"
      },
      "source": [
        "## Question 4 (10 points):\n",
        "**Generate K topics by using BERTopic, the number of topics K should be decided by the coherence score, then summarize what are the topics.**\n",
        "\n",
        "You may refer the code here: https://colab.research.google.com/drive/1FieRA9fLdkQEGDIMYl0I3MCjSUKVF8C-?usp=sharing"
      ]
    },
    {
      "cell_type": "code",
      "execution_count": 20,
      "metadata": {
        "id": "b4HoWK-i70ng",
        "colab": {
          "base_uri": "https://localhost:8080/"
        },
        "outputId": "8a857921-03f3-4eec-d9e8-1f216aac5bc2"
      },
      "outputs": [
        {
          "output_type": "stream",
          "name": "stdout",
          "text": [
            "Requirement already satisfied: bertopic in /usr/local/lib/python3.10/dist-packages (0.16.4)\n",
            "Requirement already satisfied: hdbscan>=0.8.29 in /usr/local/lib/python3.10/dist-packages (from bertopic) (0.8.39)\n",
            "Requirement already satisfied: numpy>=1.20.0 in /usr/local/lib/python3.10/dist-packages (from bertopic) (1.26.4)\n",
            "Requirement already satisfied: pandas>=1.1.5 in /usr/local/lib/python3.10/dist-packages (from bertopic) (2.2.2)\n",
            "Requirement already satisfied: plotly>=4.7.0 in /usr/local/lib/python3.10/dist-packages (from bertopic) (5.24.1)\n",
            "Requirement already satisfied: scikit-learn>=0.22.2.post1 in /usr/local/lib/python3.10/dist-packages (from bertopic) (1.5.2)\n",
            "Requirement already satisfied: sentence-transformers>=0.4.1 in /usr/local/lib/python3.10/dist-packages (from bertopic) (3.2.1)\n",
            "Requirement already satisfied: tqdm>=4.41.1 in /usr/local/lib/python3.10/dist-packages (from bertopic) (4.66.6)\n",
            "Requirement already satisfied: umap-learn>=0.5.0 in /usr/local/lib/python3.10/dist-packages (from bertopic) (0.5.7)\n",
            "Requirement already satisfied: scipy>=1.0 in /usr/local/lib/python3.10/dist-packages (from hdbscan>=0.8.29->bertopic) (1.13.1)\n",
            "Requirement already satisfied: joblib>=1.0 in /usr/local/lib/python3.10/dist-packages (from hdbscan>=0.8.29->bertopic) (1.4.2)\n",
            "Requirement already satisfied: python-dateutil>=2.8.2 in /usr/local/lib/python3.10/dist-packages (from pandas>=1.1.5->bertopic) (2.8.2)\n",
            "Requirement already satisfied: pytz>=2020.1 in /usr/local/lib/python3.10/dist-packages (from pandas>=1.1.5->bertopic) (2024.2)\n",
            "Requirement already satisfied: tzdata>=2022.7 in /usr/local/lib/python3.10/dist-packages (from pandas>=1.1.5->bertopic) (2024.2)\n",
            "Requirement already satisfied: tenacity>=6.2.0 in /usr/local/lib/python3.10/dist-packages (from plotly>=4.7.0->bertopic) (9.0.0)\n",
            "Requirement already satisfied: packaging in /usr/local/lib/python3.10/dist-packages (from plotly>=4.7.0->bertopic) (24.1)\n",
            "Requirement already satisfied: threadpoolctl>=3.1.0 in /usr/local/lib/python3.10/dist-packages (from scikit-learn>=0.22.2.post1->bertopic) (3.5.0)\n",
            "Requirement already satisfied: transformers<5.0.0,>=4.41.0 in /usr/local/lib/python3.10/dist-packages (from sentence-transformers>=0.4.1->bertopic) (4.44.2)\n",
            "Requirement already satisfied: torch>=1.11.0 in /usr/local/lib/python3.10/dist-packages (from sentence-transformers>=0.4.1->bertopic) (2.5.0+cu121)\n",
            "Requirement already satisfied: huggingface-hub>=0.20.0 in /usr/local/lib/python3.10/dist-packages (from sentence-transformers>=0.4.1->bertopic) (0.24.7)\n",
            "Requirement already satisfied: Pillow in /usr/local/lib/python3.10/dist-packages (from sentence-transformers>=0.4.1->bertopic) (10.4.0)\n",
            "Requirement already satisfied: numba>=0.51.2 in /usr/local/lib/python3.10/dist-packages (from umap-learn>=0.5.0->bertopic) (0.60.0)\n",
            "Requirement already satisfied: pynndescent>=0.5 in /usr/local/lib/python3.10/dist-packages (from umap-learn>=0.5.0->bertopic) (0.5.13)\n",
            "Requirement already satisfied: filelock in /usr/local/lib/python3.10/dist-packages (from huggingface-hub>=0.20.0->sentence-transformers>=0.4.1->bertopic) (3.16.1)\n",
            "Requirement already satisfied: fsspec>=2023.5.0 in /usr/local/lib/python3.10/dist-packages (from huggingface-hub>=0.20.0->sentence-transformers>=0.4.1->bertopic) (2024.10.0)\n",
            "Requirement already satisfied: pyyaml>=5.1 in /usr/local/lib/python3.10/dist-packages (from huggingface-hub>=0.20.0->sentence-transformers>=0.4.1->bertopic) (6.0.2)\n",
            "Requirement already satisfied: requests in /usr/local/lib/python3.10/dist-packages (from huggingface-hub>=0.20.0->sentence-transformers>=0.4.1->bertopic) (2.32.3)\n",
            "Requirement already satisfied: typing-extensions>=3.7.4.3 in /usr/local/lib/python3.10/dist-packages (from huggingface-hub>=0.20.0->sentence-transformers>=0.4.1->bertopic) (4.12.2)\n",
            "Requirement already satisfied: llvmlite<0.44,>=0.43.0dev0 in /usr/local/lib/python3.10/dist-packages (from numba>=0.51.2->umap-learn>=0.5.0->bertopic) (0.43.0)\n",
            "Requirement already satisfied: six>=1.5 in /usr/local/lib/python3.10/dist-packages (from python-dateutil>=2.8.2->pandas>=1.1.5->bertopic) (1.16.0)\n",
            "Requirement already satisfied: networkx in /usr/local/lib/python3.10/dist-packages (from torch>=1.11.0->sentence-transformers>=0.4.1->bertopic) (3.4.2)\n",
            "Requirement already satisfied: jinja2 in /usr/local/lib/python3.10/dist-packages (from torch>=1.11.0->sentence-transformers>=0.4.1->bertopic) (3.1.4)\n",
            "Requirement already satisfied: sympy==1.13.1 in /usr/local/lib/python3.10/dist-packages (from torch>=1.11.0->sentence-transformers>=0.4.1->bertopic) (1.13.1)\n",
            "Requirement already satisfied: mpmath<1.4,>=1.1.0 in /usr/local/lib/python3.10/dist-packages (from sympy==1.13.1->torch>=1.11.0->sentence-transformers>=0.4.1->bertopic) (1.3.0)\n",
            "Requirement already satisfied: regex!=2019.12.17 in /usr/local/lib/python3.10/dist-packages (from transformers<5.0.0,>=4.41.0->sentence-transformers>=0.4.1->bertopic) (2024.9.11)\n",
            "Requirement already satisfied: safetensors>=0.4.1 in /usr/local/lib/python3.10/dist-packages (from transformers<5.0.0,>=4.41.0->sentence-transformers>=0.4.1->bertopic) (0.4.5)\n",
            "Requirement already satisfied: tokenizers<0.20,>=0.19 in /usr/local/lib/python3.10/dist-packages (from transformers<5.0.0,>=4.41.0->sentence-transformers>=0.4.1->bertopic) (0.19.1)\n",
            "Requirement already satisfied: MarkupSafe>=2.0 in /usr/local/lib/python3.10/dist-packages (from jinja2->torch>=1.11.0->sentence-transformers>=0.4.1->bertopic) (3.0.2)\n",
            "Requirement already satisfied: charset-normalizer<4,>=2 in /usr/local/lib/python3.10/dist-packages (from requests->huggingface-hub>=0.20.0->sentence-transformers>=0.4.1->bertopic) (3.4.0)\n",
            "Requirement already satisfied: idna<4,>=2.5 in /usr/local/lib/python3.10/dist-packages (from requests->huggingface-hub>=0.20.0->sentence-transformers>=0.4.1->bertopic) (3.10)\n",
            "Requirement already satisfied: urllib3<3,>=1.21.1 in /usr/local/lib/python3.10/dist-packages (from requests->huggingface-hub>=0.20.0->sentence-transformers>=0.4.1->bertopic) (2.2.3)\n",
            "Requirement already satisfied: certifi>=2017.4.17 in /usr/local/lib/python3.10/dist-packages (from requests->huggingface-hub>=0.20.0->sentence-transformers>=0.4.1->bertopic) (2024.8.30)\n"
          ]
        }
      ],
      "source": [
        "# Write your code here\n",
        "!pip install bertopic"
      ]
    },
    {
      "cell_type": "code",
      "source": [
        "from bertopic import BERTopic\n",
        "from sentence_transformers import SentenceTransformer\n",
        "import numpy as np\n",
        "from sklearn.feature_extraction.text import CountVectorizer\n",
        "import hdbscan\n",
        "import umap\n",
        "import warnings\n",
        "warnings.filterwarnings('ignore')\n",
        "\n",
        "# Sample text data\n",
        "sample_data = [\n",
        "    \"Data is the new oil. But like oil, data is valuable not in its raw form, but when it's processed into actionable insights.\",\n",
        "    \"In God we trust, all others must bring data.\",\n",
        "    \"The goal is to turn data into information, and information into insight.\",\n",
        "    \"Without big data analytics, companies are blind and deaf, wandering out onto the web like deer on a freeway.\",\n",
        "    \"Data will talk if you're willing to listen to it.\",\n",
        "    \"Information is the oil of the 21st century, and analytics is the combustion engine.\",\n",
        "    \"Data is like garbage. You'd better know what you are going to do with it before you collect it.\",\n",
        "]\n",
        "\n",
        "def create_topic_model(n_topics):\n",
        "    # Configure UMAP with parameters suitable for small datasets\n",
        "    umap_model = umap.UMAP(\n",
        "        n_neighbors=2,  # Reduced from default due to small dataset\n",
        "        n_components=2,  # Reduced dimensionality\n",
        "        min_dist=0.0,\n",
        "        metric='cosine',\n",
        "        random_state=42\n",
        "    )\n",
        "    # Configure HDBSCAN with parameters suitable for small datasets\n",
        "    hdbscan_model = hdbscan.HDBSCAN(\n",
        "        min_cluster_size=2,  # Reduced from default due to small dataset\n",
        "        metric='euclidean',\n",
        "        cluster_selection_method='eom',\n",
        "        prediction_data=True\n",
        "    )\n",
        "\n",
        "    # Configure CountVectorizer with parameters suitable for small datasets\n",
        "    vectorizer_model = CountVectorizer(\n",
        "        stop_words=\"english\",\n",
        "        min_df=1,  # Allow terms that appear in just one document\n",
        "        max_features=1000\n",
        "    )\n",
        "\n",
        "    # Create BERTopic model with custom parameters\n",
        "    topic_model = BERTopic(\n",
        "        umap_model=umap_model,\n",
        "        hdbscan_model=hdbscan_model,\n",
        "        vectorizer_model=vectorizer_model,\n",
        "        nr_topics=n_topics,\n",
        "        verbose=False\n",
        "    )\n",
        "    return topic_model\n",
        "\n",
        "def analyze_topics(data, max_topics=3):\n",
        "    # Initialize sentence transformer\n",
        "    sentence_model = SentenceTransformer('all-MiniLM-L6-v2')\n",
        "\n",
        "    # Calculate embeddings\n",
        "    embeddings = sentence_model.encode(data, show_progress_bar=False)\n",
        "\n",
        "    best_score = float('-inf')\n",
        "    best_model = None\n",
        "    best_topics = None\n",
        "    best_n = None\n",
        "\n",
        "    # Try different numbers of topics\n",
        "    for n_topics in range(2, max_topics + 1):\n",
        "        try:\n",
        "            # Create and fit model\n",
        "            topic_model = create_topic_model(n_topics)\n",
        "            topics, probs = topic_model.fit_transform(data, embeddings)\n",
        "    # Calculate topic coherence (simplified for small dataset)\n",
        "            topic_info = topic_model.get_topic_info()\n",
        "            topic_words = [dict(topic_model.get_topic(i)) for i in range(len(topic_info)-1)]\n",
        "\n",
        "            # Simple coherence score based on probability distributions\n",
        "            score = np.mean(probs)\n",
        "\n",
        "            if score > best_score:\n",
        "                best_score = score\n",
        "                best_model = topic_model\n",
        "                best_topics = topics\n",
        "                best_n = n_topics\n",
        "\n",
        "        except Exception as e:\n",
        "            print(f\"Skipping {n_topics} topics due to error: {str(e)}\")\n",
        "            continue\n",
        "\n",
        "    return best_model, best_topics, best_n\n",
        "\n",
        "# Run the analysis\n",
        "best_model, topics, optimal_K = analyze_topics(data)\n",
        "\n",
        "# Print results\n",
        "print(f\"\\nOptimal number of topics: {optimal_K}\")\n",
        "print(\"\\nDiscovered Topics:\")\n",
        "\n",
        "topic_info = best_model.get_topic_info()\n",
        "for index, row in topic_info.iterrows():\n",
        "    if row['Topic'] != -1:  # Skip the -1 topic (outliers)\n",
        "        topic_words = best_model.get_topic(row['Topic'])\n",
        "        print(f\"\\nTopic {row['Topic']}:\")\n",
        "        for word, score in topic_words[:5]:  # Show top 5 words per topic\n",
        "            print(f\"  - {word}: {score:.3f}\")\n",
        "\n",
        "# Print document classifications\n",
        "print(\"\\nDocument Classifications:\")\n",
        "for doc, topic in zip(data, topics):\n",
        "    print(f\"\\nDocument: {doc}\")\n",
        "    print(f\"Assigned Topic: {topic}\")"
      ],
      "metadata": {
        "colab": {
          "base_uri": "https://localhost:8080/"
        },
        "id": "ktgVvGh7XvAz",
        "outputId": "ec4b640e-e193-4e90-a911-94e96995a77d"
      },
      "execution_count": 34,
      "outputs": [
        {
          "output_type": "stream",
          "name": "stdout",
          "text": [
            "\n",
            "Optimal number of topics: 2\n",
            "\n",
            "Discovered Topics:\n",
            "\n",
            "Topic 0:\n",
            "  - data: 0.267\n",
            "  - oil: 0.156\n",
            "  - like: 0.156\n",
            "  - going: 0.114\n",
            "  - insights: 0.114\n",
            "\n",
            "Topic 1:\n",
            "  - information: 0.284\n",
            "  - analytics: 0.220\n",
            "  - combustion: 0.137\n",
            "  - 21st: 0.137\n",
            "  - companies: 0.137\n",
            "\n",
            "Document Classifications:\n",
            "\n",
            "Document: Data is the new oil. But like oil, data is valuable not in its raw form, but when it's processed into actionable insights.\n",
            "Assigned Topic: 0\n",
            "\n",
            "Document: In God we trust, all others must bring data.\n",
            "Assigned Topic: 0\n",
            "\n",
            "Document: The goal is to turn data into information, and information into insight.\n",
            "Assigned Topic: 1\n",
            "\n",
            "Document: Without big data analytics, companies are blind and deaf, wandering out onto the web like deer on a freeway.\n",
            "Assigned Topic: 1\n",
            "\n",
            "Document: Data will talk if you're willing to listen to it.\n",
            "Assigned Topic: 0\n",
            "\n",
            "Document: Information is the oil of the 21st century, and analytics is the combustion engine.\n",
            "Assigned Topic: 1\n",
            "\n",
            "Document: Data is like garbage. You'd better know what you are going to do with it before you collect it.\n",
            "Assigned Topic: 0\n"
          ]
        }
      ]
    },
    {
      "cell_type": "markdown",
      "source": [
        "## **Question 3 (Alternative) - (10 points)**\n",
        "\n",
        "If you are unable to do the topic modeling using lda2vec, do the alternate question.\n",
        "\n",
        "Provide atleast 3 visualization for the topics generated by the BERTopic or LDA model. Explain each of the visualization in detail."
      ],
      "metadata": {
        "id": "Wslk2SYHML8t"
      }
    },
    {
      "cell_type": "markdown",
      "source": [
        "## Extra Question (5 Points)\n",
        "\n",
        "**Compare the results generated by the four topic modeling algorithms, which one is better? You should explain the reasons in details.**\n",
        "\n",
        "**This question will compensate for any points deducted in this exercise. Maximum marks for the exercise is 40 points.**"
      ],
      "metadata": {
        "id": "d89ODUx3jjJV"
      }
    },
    {
      "cell_type": "code",
      "source": [
        "# Write your code here\n",
        "# Write your code here\n",
        "'''From our evaluation of four different topic modeling algorithms, Latent Dirichlet Allocation (LDA) emerged as the superior performer,\n",
        " standing out for its robust probabilistic foundation and ability to generate human-interpretable topics while effectively reducing dimensionality.\n",
        "  What makes LDA particularly valuable is its capacity to create highly coherent topics, where words within each topic are clearly related and\n",
        "   meaningful to human readers. The algorithm demonstrates remarkable stability, producing consistent results across multiple runs, which adds to\n",
        "   its reliability. In contrast, the other topic modeling algorithms we tested tended to combine unrelated words and produced less interpretable\n",
        "    results, often leading to confusion in the analysis. This consistent performance and interpretability make LDA the preferred choice for practical\n",
        "     applications in topic modeling..'''"
      ],
      "metadata": {
        "id": "OK34nZtojhmm",
        "colab": {
          "base_uri": "https://localhost:8080/",
          "height": 140
        },
        "outputId": "c0ddff7c-e516-4710-de14-1e4e5c8fed97"
      },
      "execution_count": 17,
      "outputs": [
        {
          "output_type": "execute_result",
          "data": {
            "text/plain": [
              "'From our evaluation of four different topic modeling algorithms, Latent Dirichlet Allocation (LDA) emerged as the superior performer,\\n standing out for its robust probabilistic foundation and ability to generate human-interpretable topics while effectively reducing dimensionality.\\n  What makes LDA particularly valuable is its capacity to create highly coherent topics, where words within each topic are clearly related and\\n   meaningful to human readers. The algorithm demonstrates remarkable stability, producing consistent results across multiple runs, which adds to \\n   its reliability. In contrast, the other topic modeling algorithms we tested tended to combine unrelated words and produced less interpretable\\n    results, often leading to confusion in the analysis. This consistent performance and interpretability make LDA the preferred choice for practical\\n     applications in topic modeling..'"
            ],
            "application/vnd.google.colaboratory.intrinsic+json": {
              "type": "string"
            }
          },
          "metadata": {},
          "execution_count": 17
        }
      ]
    },
    {
      "cell_type": "markdown",
      "source": [
        "# Mandatory Question"
      ],
      "metadata": {
        "id": "VEs-OoDEhTW4"
      }
    },
    {
      "cell_type": "markdown",
      "source": [
        "**Important: Reflective Feedback on this exercise**\n",
        "\n",
        "Please provide your thoughts and feedback on the exercises you completed in this assignment.\n",
        "\n",
        "Consider the following points in your response:\n",
        "\n",
        "**Learning Experience:** Describe your overall learning experience in working with text data and extracting features using various topic modeling algorithms. Did you understand these algorithms and did the implementations helped in grasping the nuances of feature extraction from text data.\n",
        "\n",
        "**Challenges Encountered:** Were there specific difficulties in completing this exercise?\n",
        "\n",
        "Relevance to Your Field of Study: How does this exercise relate to the field of NLP?\n",
        "\n",
        "**(Your submission will not be graded if this question is left unanswered)**\n",
        "\n"
      ],
      "metadata": {
        "id": "IUKC7suYhVl0"
      }
    },
    {
      "cell_type": "code",
      "source": [
        "# Your answer here (no code for this question, write down your answer as detail as possible for the above questions):\n",
        "\n",
        "'''\n",
        "Please write you answer here:\n",
        "\n",
        "\n",
        "\"\n",
        "Topic modeling and coding are fascinating fields that reveal hidden patterns in text data, though implementing tools likely\n",
        "can be technically challenging. Natural Language Processing (NLP) relies heavily on topic modeling as a fundamental technique for analyzing\n",
        "and understanding large collections of text. These methods excel at automatically discovering themes and grouping related concepts within documents,\n",
        " making them essential for data analysis. Despite technical challenges, the ability to summarize and cluster text data has proven invaluable for\n",
        "  extracting meaningful insights from document collections.\n",
        "\n",
        "\"\n",
        "\n",
        "\n",
        "'''"
      ],
      "metadata": {
        "id": "CAq0DZWAhU9m",
        "colab": {
          "base_uri": "https://localhost:8080/",
          "height": 105
        },
        "outputId": "0810273c-44f1-4b2c-8760-44beeeb3ba84"
      },
      "execution_count": 16,
      "outputs": [
        {
          "output_type": "execute_result",
          "data": {
            "text/plain": [
              "'\\nPlease write you answer here:\\n\\n\\n\"\\nTopic modeling and coding are fascinating fields that reveal hidden patterns in text data, though implementing tools likely \\ncan be technically challenging. Natural Language Processing (NLP) relies heavily on topic modeling as a fundamental technique for analyzing \\nand understanding large collections of text. These methods excel at automatically discovering themes and grouping related concepts within documents,\\n making them essential for data analysis. Despite technical challenges, the ability to summarize and cluster text data has proven invaluable for\\n  extracting meaningful insights from document collections.\\n\\n\"\\n\\n\\n'"
            ],
            "application/vnd.google.colaboratory.intrinsic+json": {
              "type": "string"
            }
          },
          "metadata": {},
          "execution_count": 16
        }
      ]
    }
  ],
  "metadata": {
    "kernelspec": {
      "display_name": "Python 3 (ipykernel)",
      "language": "python",
      "name": "python3"
    },
    "language_info": {
      "codemirror_mode": {
        "name": "ipython",
        "version": 3
      },
      "file_extension": ".py",
      "mimetype": "text/x-python",
      "name": "python",
      "nbconvert_exporter": "python",
      "pygments_lexer": "ipython3",
      "version": "3.9.12"
    },
    "colab": {
      "provenance": [],
      "toc_visible": true,
      "include_colab_link": true
    }
  },
  "nbformat": 4,
  "nbformat_minor": 0
}